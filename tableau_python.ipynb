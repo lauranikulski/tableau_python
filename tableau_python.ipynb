{
 "cells": [
  {
   "cell_type": "markdown",
   "metadata": {},
   "source": [
    "# Data Storytelling with Tableau and Python \n",
    "## 1. Create virtual environment in VS Code  \n",
    "1.1 in VS Code: File>Open Folder>Open your project folder OR cd C:\\Users\\laura\\OneDrive\\Desktop\\projects\\tableau_python (change path to your project folder path)\n",
    "<br>\n",
    "1.2 ctrl + shift + p, create virtual environment\n",
    "<br>\n",
    "1.3 Select kernel: venv\n",
    "You may see a popup saying that even though your virtual environment is activated, it may not look like it is not but it is indeed active. \n",
    "To verify this, check the explorer tab on the left and it should tell you that your folder now contains a dependency called .venv.  \n",
    "\n",
    ">[ manual way to a virtual environment: \n",
    "in VS Code: Terminal>New terminal \n",
    "in your terminal while you're in your present folder (check with pwd): \n",
    "<br>\n",
    "run python -m venv venv, hit enter. this will create a new folder holding your project depencies \n",
    "<br>\n",
    "in your terminal: venv\\Scripts\\Activate, hit enter again]"
   ]
  },
  {
   "cell_type": "markdown",
   "metadata": {},
   "source": [
    "# 2. Install Python, Tableau and any packages you may need\n",
    "2.1 install and update pip: python -m pip install --upgrade pip\n",
    "<br>\n",
    "2.2 install Python:\n",
    "https://www.python.org/downloads/ on your browser to download the latest version and follow the on screen instructions\n",
    "<br>\n",
    "2.3 install Tableau Public https://public.tableau.com/app/discover"
   ]
  },
  {
   "cell_type": "code",
   "execution_count": 86,
   "metadata": {},
   "outputs": [],
   "source": [
    "import pandas as pd # basic data analysis library \n",
    "import csv # helps Python read a CSV (raw data) file\n",
    "import os # operating system functionality for Python to be used with Kaggle\n",
    "import opendatasets as od # helps download a dataset from Kaggle"
   ]
  },
  {
   "cell_type": "markdown",
   "metadata": {},
   "source": [
    "# 3. Find a Dataset you would like to Investigate\n",
    "For free datasets: Kaggle. \n",
    "Other options: \n",
    "- https://data.fivethirtyeight.com/\n",
    "- https://github.com/BuzzFeedNews/everything\n",
    "- https://archive.ics.uci.edu/ml/datasets.php\n",
    "- https://github.com/awesomedata/awesome-public-datasets\n",
    "- https://www.kaggle.com/datasets?license=cc\n",
    "- https://datasetsearch.research.google.com/"
   ]
  },
  {
   "cell_type": "code",
   "execution_count": 87,
   "metadata": {},
   "outputs": [],
   "source": [
    "# in kaggle, navigate to your chosen dataset and copy and paste the link to it\n",
    "dataset_url  = 'https://www.kaggle.com/datasets/jongbinwon/naver-webtoon-dataset-with-osmu-records?resource=download'"
   ]
  },
  {
   "cell_type": "code",
   "execution_count": 88,
   "metadata": {},
   "outputs": [
    {
     "name": "stdout",
     "output_type": "stream",
     "text": [
      "Skipping, found downloaded files in \".\\naver-webtoon-dataset-with-osmu-records\" (use force=True to force download)\n"
     ]
    }
   ],
   "source": [
    "od.download(dataset_url)"
   ]
  },
  {
   "cell_type": "code",
   "execution_count": 89,
   "metadata": {},
   "outputs": [],
   "source": [
    "# define the directory by copy pasting the part after the author's name and before the ?resource=download part\n",
    "directory = './naver-webtoon-dataset-with-osmu-records'\n"
   ]
  },
  {
   "cell_type": "code",
   "execution_count": 90,
   "metadata": {},
   "outputs": [
    {
     "data": {
      "text/plain": [
       "['NAVER-Webtoon_OSMU.xlsx']"
      ]
     },
     "execution_count": 90,
     "metadata": {},
     "output_type": "execute_result"
    }
   ],
   "source": [
    "os.listdir(directory)"
   ]
  },
  {
   "cell_type": "code",
   "execution_count": null,
   "metadata": {},
   "outputs": [],
   "source": []
  }
 ],
 "metadata": {
  "kernelspec": {
   "display_name": ".venv",
   "language": "python",
   "name": "python3"
  },
  "language_info": {
   "codemirror_mode": {
    "name": "ipython",
    "version": 3
   },
   "file_extension": ".py",
   "mimetype": "text/x-python",
   "name": "python",
   "nbconvert_exporter": "python",
   "pygments_lexer": "ipython3",
   "version": "3.11.0"
  }
 },
 "nbformat": 4,
 "nbformat_minor": 2
}
