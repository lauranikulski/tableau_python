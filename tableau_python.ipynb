{
 "cells": [
  {
   "cell_type": "markdown",
   "metadata": {},
   "source": [
    "# Data Storytelling with Tableau and Python \n",
    "## 1. Create virtual environment in VS Code  \n",
    "1.1 in VS Code: File>Open Folder>Open your project folder OR cd C:\\Users\\laura\\OneDrive\\Desktop\\projects\\tableau_python (change path to your project folder path)\n",
    "<br>\n",
    "1.2 ctrl + shift + p, create virtual environment\n",
    "<br>\n",
    "1.3 Select kernel: venv\n",
    "You may see a popup saying that even though your virtual environment is activated, it may not look like it is not but it is indeed active. \n",
    "To verify this, check the explorer tab on the left and it should tell you that your folder now contains a dependency called .venv.  \n",
    "\n",
    ">[ manual way to a virtual environment: \n",
    "in VS Code: Terminal>New terminal \n",
    "in your terminal while you're in your present folder (check with pwd): \n",
    "<br>\n",
    "run python -m venv venv, hit enter. this will create a new folder holding your project depencies \n",
    "<br>\n",
    "in your terminal: venv\\Scripts\\Activate, hit enter again]"
   ]
  },
  {
   "cell_type": "markdown",
   "metadata": {},
   "source": [
    "# 2. Install Python, Tableau and any packages you may need\n",
    "2.1 install and update pip: python -m pip install --upgrade pip\n",
    "<br>\n",
    "2.2 install Python:\n",
    "https://www.python.org/downloads/ on your browser to download the latest version and follow the on screen instructions\n",
    "<br>\n",
    "2.3 install Tableau Public https://public.tableau.com/app/discover"
   ]
  },
  {
   "cell_type": "code",
   "execution_count": 114,
   "metadata": {},
   "outputs": [],
   "source": [
    "import pandas as pd # basic data analysis library \n",
    "import csv # helps Python read a CSV (raw data) file\n",
    "import os # operating system functionality for Python to be used with Kaggle\n",
    "import opendatasets as od # helps download a dataset from Kaggle"
   ]
  },
  {
   "cell_type": "markdown",
   "metadata": {},
   "source": [
    "# 3. Find a Dataset you would like to Investigate\n",
    "For free datasets: Kaggle. \n",
    "Other options: \n",
    "- https://data.fivethirtyeight.com/\n",
    "- https://github.com/BuzzFeedNews/everything\n",
    "- https://archive.ics.uci.edu/ml/datasets.php\n",
    "- https://github.com/awesomedata/awesome-public-datasets\n",
    "- https://www.kaggle.com/datasets?license=cc\n",
    "- https://datasetsearch.research.google.com/"
   ]
  },
  {
   "cell_type": "code",
   "execution_count": 115,
   "metadata": {},
   "outputs": [],
   "source": [
    "# in kaggle, navigate to your chosen dataset and copy and paste the link to it\n",
    "dataset_url  = 'https://www.kaggle.com/datasets/iridazzle/webtoon-originals-datasets?select=webtoon_originals_en.csv'"
   ]
  },
  {
   "cell_type": "code",
   "execution_count": 116,
   "metadata": {},
   "outputs": [
    {
     "name": "stdout",
     "output_type": "stream",
     "text": [
      "Skipping, found downloaded files in \".\\webtoon-originals-datasets\" (use force=True to force download)\n"
     ]
    }
   ],
   "source": [
    "od.download(dataset_url)"
   ]
  },
  {
   "cell_type": "code",
   "execution_count": 117,
   "metadata": {},
   "outputs": [],
   "source": [
    "# define the directory by copy pasting the part after the author's name and before the ?resource=download part\n",
    "directory = './webtoon-originals-datasets'\n"
   ]
  },
  {
   "cell_type": "code",
   "execution_count": 118,
   "metadata": {},
   "outputs": [
    {
     "data": {
      "text/plain": [
       "['get_webtoon_csv.ipynb',\n",
       " 'webtoon_dataframes.ipynb',\n",
       " 'webtoon_originals_de.csv',\n",
       " 'webtoon_originals_en.csv',\n",
       " 'webtoon_originals_es.csv',\n",
       " 'webtoon_originals_fr.csv',\n",
       " 'webtoon_originals_id.csv',\n",
       " 'webtoon_originals_th.csv',\n",
       " 'webtoon_originals_zh-hant.csv']"
      ]
     },
     "execution_count": 118,
     "metadata": {},
     "output_type": "execute_result"
    }
   ],
   "source": [
    "os.listdir(directory)"
   ]
  },
  {
   "cell_type": "code",
   "execution_count": 119,
   "metadata": {},
   "outputs": [],
   "source": [
    "df = pd.read_csv('.\\webtoon-originals-datasets\\webtoon_originals_en.csv')"
   ]
  },
  {
   "cell_type": "code",
   "execution_count": 120,
   "metadata": {},
   "outputs": [
    {
     "data": {
      "text/html": [
       "<div>\n",
       "<style scoped>\n",
       "    .dataframe tbody tr th:only-of-type {\n",
       "        vertical-align: middle;\n",
       "    }\n",
       "\n",
       "    .dataframe tbody tr th {\n",
       "        vertical-align: top;\n",
       "    }\n",
       "\n",
       "    .dataframe thead th {\n",
       "        text-align: right;\n",
       "    }\n",
       "</style>\n",
       "<table border=\"1\" class=\"dataframe\">\n",
       "  <thead>\n",
       "    <tr style=\"text-align: right;\">\n",
       "      <th></th>\n",
       "      <th>title_id</th>\n",
       "      <th>title</th>\n",
       "      <th>genre</th>\n",
       "      <th>authors</th>\n",
       "      <th>weekdays</th>\n",
       "      <th>length</th>\n",
       "      <th>subscribers</th>\n",
       "      <th>rating</th>\n",
       "      <th>views</th>\n",
       "      <th>likes</th>\n",
       "      <th>status</th>\n",
       "      <th>daily_pass</th>\n",
       "      <th>synopsis</th>\n",
       "    </tr>\n",
       "  </thead>\n",
       "  <tbody>\n",
       "    <tr>\n",
       "      <th>0</th>\n",
       "      <td>4603</td>\n",
       "      <td>Red Hood: Outlaws</td>\n",
       "      <td>ACTION</td>\n",
       "      <td>Patrick R. Young,Nico Bascuñan</td>\n",
       "      <td>MONDAY</td>\n",
       "      <td>5</td>\n",
       "      <td>219484</td>\n",
       "      <td>9.64</td>\n",
       "      <td>997928</td>\n",
       "      <td>108280</td>\n",
       "      <td>ONGOING</td>\n",
       "      <td>False</td>\n",
       "      <td>The Outlaws try to go legit -- and fail specta...</td>\n",
       "    </tr>\n",
       "    <tr>\n",
       "      <th>1</th>\n",
       "      <td>4596</td>\n",
       "      <td>A Dance of Swords in the Night</td>\n",
       "      <td>ACTION</td>\n",
       "      <td>JP,MinskySong,Yu jin sung</td>\n",
       "      <td>WEDNESDAY</td>\n",
       "      <td>4</td>\n",
       "      <td>61812</td>\n",
       "      <td>9.60</td>\n",
       "      <td>207372</td>\n",
       "      <td>24226</td>\n",
       "      <td>ONGOING</td>\n",
       "      <td>False</td>\n",
       "      <td>Kidnapped as a child to be trained in the art ...</td>\n",
       "    </tr>\n",
       "    <tr>\n",
       "      <th>2</th>\n",
       "      <td>4583</td>\n",
       "      <td>Kill the Dragon</td>\n",
       "      <td>ACTION</td>\n",
       "      <td>Miss Jisu,J-Sun(REDICE STUDIO),Baeksu Noble</td>\n",
       "      <td>THURSDAY</td>\n",
       "      <td>7</td>\n",
       "      <td>176840</td>\n",
       "      <td>8.84</td>\n",
       "      <td>1687308</td>\n",
       "      <td>121186</td>\n",
       "      <td>ONGOING</td>\n",
       "      <td>False</td>\n",
       "      <td>The human race plunged into a war against drag...</td>\n",
       "    </tr>\n",
       "    <tr>\n",
       "      <th>3</th>\n",
       "      <td>4582</td>\n",
       "      <td>Mythic Item Obtained</td>\n",
       "      <td>FANTASY</td>\n",
       "      <td>Jung SeonYul,Hess</td>\n",
       "      <td>THURSDAY</td>\n",
       "      <td>5</td>\n",
       "      <td>167086</td>\n",
       "      <td>9.43</td>\n",
       "      <td>842795</td>\n",
       "      <td>67739</td>\n",
       "      <td>ONGOING</td>\n",
       "      <td>False</td>\n",
       "      <td>In a world where technology and magic are almo...</td>\n",
       "    </tr>\n",
       "    <tr>\n",
       "      <th>4</th>\n",
       "      <td>4572</td>\n",
       "      <td>Marry My Husband</td>\n",
       "      <td>ROMANCE</td>\n",
       "      <td>sungsojak,LICO</td>\n",
       "      <td>MONDAY</td>\n",
       "      <td>3</td>\n",
       "      <td>24449</td>\n",
       "      <td>9.49</td>\n",
       "      <td>71290</td>\n",
       "      <td>8516</td>\n",
       "      <td>ONGOING</td>\n",
       "      <td>False</td>\n",
       "      <td>When Jiwon, a 37-year-old cancer patient, walk...</td>\n",
       "    </tr>\n",
       "  </tbody>\n",
       "</table>\n",
       "</div>"
      ],
      "text/plain": [
       "   title_id                           title    genre  \\\n",
       "0      4603               Red Hood: Outlaws   ACTION   \n",
       "1      4596  A Dance of Swords in the Night   ACTION   \n",
       "2      4583                 Kill the Dragon   ACTION   \n",
       "3      4582            Mythic Item Obtained  FANTASY   \n",
       "4      4572                Marry My Husband  ROMANCE   \n",
       "\n",
       "                                       authors   weekdays  length  \\\n",
       "0               Patrick R. Young,Nico Bascuñan     MONDAY       5   \n",
       "1                    JP,MinskySong,Yu jin sung  WEDNESDAY       4   \n",
       "2  Miss Jisu,J-Sun(REDICE STUDIO),Baeksu Noble   THURSDAY       7   \n",
       "3                            Jung SeonYul,Hess   THURSDAY       5   \n",
       "4                               sungsojak,LICO     MONDAY       3   \n",
       "\n",
       "   subscribers  rating    views   likes   status  daily_pass  \\\n",
       "0       219484    9.64   997928  108280  ONGOING       False   \n",
       "1        61812    9.60   207372   24226  ONGOING       False   \n",
       "2       176840    8.84  1687308  121186  ONGOING       False   \n",
       "3       167086    9.43   842795   67739  ONGOING       False   \n",
       "4        24449    9.49    71290    8516  ONGOING       False   \n",
       "\n",
       "                                            synopsis  \n",
       "0  The Outlaws try to go legit -- and fail specta...  \n",
       "1  Kidnapped as a child to be trained in the art ...  \n",
       "2  The human race plunged into a war against drag...  \n",
       "3  In a world where technology and magic are almo...  \n",
       "4  When Jiwon, a 37-year-old cancer patient, walk...  "
      ]
     },
     "execution_count": 120,
     "metadata": {},
     "output_type": "execute_result"
    }
   ],
   "source": [
    "df.head()"
   ]
  },
  {
   "cell_type": "code",
   "execution_count": null,
   "metadata": {},
   "outputs": [],
   "source": []
  }
 ],
 "metadata": {
  "kernelspec": {
   "display_name": ".venv",
   "language": "python",
   "name": "python3"
  },
  "language_info": {
   "codemirror_mode": {
    "name": "ipython",
    "version": 3
   },
   "file_extension": ".py",
   "mimetype": "text/x-python",
   "name": "python",
   "nbconvert_exporter": "python",
   "pygments_lexer": "ipython3",
   "version": "3.11.0"
  }
 },
 "nbformat": 4,
 "nbformat_minor": 2
}
