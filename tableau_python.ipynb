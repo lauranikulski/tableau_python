{
 "cells": [
  {
   "cell_type": "markdown",
   "metadata": {},
   "source": [
    "# Data Storytelling with Tableau and Python \n",
    "## 1. Create virtual environment in VS Code  \n",
    "1.1 in VS Code: File>Open Folder>Open your project folder OR cd C:\\Users\\laura\\OneDrive\\Desktop\\projects\\tableau_python (change path to your project folder path)\n",
    "<br>\n",
    "1.2 ctrl + shift + p, create virtual environment\n",
    "<br>\n",
    "1.3 Select kernel: venv\n",
    "You may see a popup saying that even though your virtual environment is activated, it may not look like it is not but it is indeed active. \n",
    "To verify this, check the explorer tab on the left and it should tell you that your folder now contains a dependency called .venv.  \n",
    "\n",
    ">[ manual way to a virtual environment: \n",
    "in VS Code: Terminal>New terminal \n",
    "in your terminal while you're in your present folder (check with pwd): \n",
    "<br>\n",
    "run python -m venv venv, hit enter. this will create a new folder holding your project depencies \n",
    "<br>\n",
    "in your terminal: venv\\Scripts\\Activate, hit enter again]"
   ]
  },
  {
   "cell_type": "markdown",
   "metadata": {},
   "source": [
    "# Install Python, Tableau and any packages you may need\n",
    "2. install and update pip: python -m pip install --upgrade pip\n",
    "<br>\n",
    "2.1 install Python:\n",
    "https://www.python.org/downloads/ on your browser to download the latest version and follow the on screen instructions\n",
    "2.2 install Tableau Public "
   ]
  }
 ],
 "metadata": {
  "kernelspec": {
   "display_name": ".venv",
   "language": "python",
   "name": "python3"
  },
  "language_info": {
   "name": "python",
   "version": "3.13.2"
  }
 },
 "nbformat": 4,
 "nbformat_minor": 2
}
