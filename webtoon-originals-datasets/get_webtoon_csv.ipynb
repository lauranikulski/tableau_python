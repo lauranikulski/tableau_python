{
 "cells": [
  {
   "cell_type": "markdown",
   "id": "c7db0958",
   "metadata": {},
   "source": [
    "# WEBTOON ORIGINALS\n",
    "\n",
    "This notebook serves to `GET` data from the Webtoon API on RapidAPI and convert the `JSON` repsonse to `CSV` format.\n",
    "\n",
    "[Webtoon API](https://rapidapi.com/apidojo/api/webtoon/)\n",
    "\n",
    "## Requirements\n",
    "\n",
    "**Libraries**\n",
    "\n",
    "- requests\n",
    "\n",
    "**API Key**\n",
    "\n",
    "A RapidAPI key will be required to get data.\n",
    "\n",
    "If you do not have a RapidAPI account, you can get a key at [Webtoon API on RapidAPI](https://rapidapi.com/apidojo/api/webtoon/) by going to \"Pricing\", subscribing to the Basic plan, and creating an account.\n",
    "\n",
    "If you already have an account, subscribe to the API in order to use it."
   ]
  },
  {
   "cell_type": "code",
   "execution_count": null,
   "id": "f25a624e",
   "metadata": {},
   "outputs": [],
   "source": [
    "from requests import request\n",
    "from csv import writer"
   ]
  },
  {
   "cell_type": "markdown",
   "id": "ca584e6a",
   "metadata": {},
   "source": [
    "Function that makes the API call. Returns a JSON object."
   ]
  },
  {
   "cell_type": "code",
   "execution_count": null,
   "id": "8b26c829",
   "metadata": {},
   "outputs": [],
   "source": [
    "def api_call(lang):\n",
    "   rapid_api_key = \"\" # rapid api key here\n",
    "   \n",
    "   url = \"https://webtoon.p.rapidapi.com/originals/titles/list\"\n",
    "   \n",
    "   querystring = {\"language\": lang}\n",
    "   \n",
    "   headers = {\n",
    "      \"x-rapidapi-host\": \"webtoon.p.rapidapi.com\",\n",
    "      \"x-rapidapi-key\": rapid_api_key\n",
    "   }\n",
    "   \n",
    "   response = request(\"GET\", url, headers = headers, params = querystring)\n",
    "   \n",
    "   titles = response.json()[\"message\"][\"result\"][\"titleList\"][\"titles\"]\n",
    "   \n",
    "   return(titles)"
   ]
  },
  {
   "cell_type": "markdown",
   "id": "68a373a7",
   "metadata": {},
   "source": [
    "Function that makes the csv. Does a bit of cleaning and changes the header to be more readable."
   ]
  },
  {
   "cell_type": "code",
   "execution_count": null,
   "id": "c57e2a44",
   "metadata": {},
   "outputs": [],
   "source": [
    "def make_data(titles, lang):\n",
    "   dataset = open(\"webtoon_originals_\" + lang + \".csv\", \"w\", newline = \"\", encoding = \"utf-8\")\n",
    "   \n",
    "   csv_writer = writer(dataset, delimiter = \",\")\n",
    "   \n",
    "   title_keys = [\"titleNo\", \"title\", \"representGenre\", \"titleAuthorList\", \"weekday\",\n",
    "                 \"totalServiceEpisodeCount\", \"favoriteCount\", \"starScoreAverage\", \"readCount\",\n",
    "                 \"likeitCount\", \"restTerminationStatus\", \"dailyPassTitle\", \"synopsis\"\n",
    "                ]\n",
    "   header = [\"title_id\", \"title\", \"genre\", \"authors\", \"weekdays\", \"length\", \"subscribers\",\n",
    "             \"rating\", \"views\", \"likes\", \"status\", \"daily_pass\", \"synopsis\"\n",
    "            ]\n",
    "   \n",
    "   csv_writer.writerow(header)\n",
    "   \n",
    "   for title in titles:\n",
    "      title_vals = []\n",
    "      for k in title_keys:\n",
    "         auth_list = []\n",
    "         wkdy_list = []\n",
    "         if k == \"titleAuthorList\":\n",
    "            for auth in title[k]:\n",
    "               auth_list.append(auth[\"authorName\"])\n",
    "            auth_str = \",\".join(auth_list)\n",
    "            title_vals.append(auth_str)\n",
    "         elif k == \"weekday\":\n",
    "            for wkdy in title[k]:\n",
    "               wkdy_list.append(wkdy)\n",
    "            wkdy_str = \",\".join(wkdy_list)\n",
    "            title_vals.append(wkdy_str)\n",
    "         elif k == \"restTerminationStatus\":\n",
    "            if title[k] == \"SERIES\":\n",
    "               title_vals.append(\"ONGOING\")\n",
    "            elif title[k] == \"TERMINATION\":\n",
    "               title_vals.append(\"COMPLETED\")\n",
    "            elif title[k] == \"REST\":\n",
    "               title_vals.append(\"HIATUS\")\n",
    "            else:\n",
    "               title_vals.append(title[k])\n",
    "         else:\n",
    "            title_vals.append(title[k])\n",
    "      csv_writer.writerow(title_vals)\n",
    "   \n",
    "   dataset.close()"
   ]
  },
  {
   "cell_type": "markdown",
   "id": "da7e4c79",
   "metadata": {},
   "source": [
    "Iterates though all the languages and makes the API call and csv for each language."
   ]
  },
  {
   "cell_type": "code",
   "execution_count": null,
   "id": "4f6bb913",
   "metadata": {},
   "outputs": [],
   "source": [
    "langs = [\"en\", \"zh-hant\", \"th\", \"id\", \"es\", \"fr\", \"de\"]\n",
    "\n",
    "for lang in langs:\n",
    "   titles = api_call(lang)\n",
    "   make_data(titles, lang)"
   ]
  }
 ],
 "metadata": {
  "kernelspec": {
   "display_name": "Python 3 (ipykernel)",
   "language": "python",
   "name": "python3"
  },
  "language_info": {
   "codemirror_mode": {
    "name": "ipython",
    "version": 3
   },
   "file_extension": ".py",
   "mimetype": "text/x-python",
   "name": "python",
   "nbconvert_exporter": "python",
   "pygments_lexer": "ipython3",
   "version": "3.9.8"
  }
 },
 "nbformat": 4,
 "nbformat_minor": 5
}
