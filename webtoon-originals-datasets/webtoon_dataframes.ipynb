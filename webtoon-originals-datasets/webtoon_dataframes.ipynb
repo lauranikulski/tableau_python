{
 "cells": [
  {
   "cell_type": "markdown",
   "id": "dc1bee62",
   "metadata": {},
   "source": [
    "Example on how to read the csv into a pandas dataframe. The elements in the `authors` and `weekdays` columns should be made into lists to make evaluation easier."
   ]
  },
  {
   "cell_type": "code",
   "execution_count": 1,
   "id": "1b7eee06",
   "metadata": {},
   "outputs": [],
   "source": [
    "import pandas as pd"
   ]
  },
  {
   "cell_type": "code",
   "execution_count": 2,
   "id": "ab07a188",
   "metadata": {},
   "outputs": [
    {
     "data": {
      "text/html": [
       "<div>\n",
       "<style scoped>\n",
       "    .dataframe tbody tr th:only-of-type {\n",
       "        vertical-align: middle;\n",
       "    }\n",
       "\n",
       "    .dataframe tbody tr th {\n",
       "        vertical-align: top;\n",
       "    }\n",
       "\n",
       "    .dataframe thead th {\n",
       "        text-align: right;\n",
       "    }\n",
       "</style>\n",
       "<table border=\"1\" class=\"dataframe\">\n",
       "  <thead>\n",
       "    <tr style=\"text-align: right;\">\n",
       "      <th></th>\n",
       "      <th>title_id</th>\n",
       "      <th>title</th>\n",
       "      <th>genre</th>\n",
       "      <th>authors</th>\n",
       "      <th>weekdays</th>\n",
       "      <th>length</th>\n",
       "      <th>subscribers</th>\n",
       "      <th>rating</th>\n",
       "      <th>views</th>\n",
       "      <th>likes</th>\n",
       "      <th>status</th>\n",
       "      <th>daily_pass</th>\n",
       "      <th>synopsis</th>\n",
       "    </tr>\n",
       "  </thead>\n",
       "  <tbody>\n",
       "    <tr>\n",
       "      <th>0</th>\n",
       "      <td>3921</td>\n",
       "      <td>The Final Raid Boss</td>\n",
       "      <td>FANTASY</td>\n",
       "      <td>[KIM JANGHUN, HA SEONGSHIN, PARK SUBONG]</td>\n",
       "      <td>[WEDNESDAY]</td>\n",
       "      <td>3</td>\n",
       "      <td>2962</td>\n",
       "      <td>9.94</td>\n",
       "      <td>5401</td>\n",
       "      <td>370</td>\n",
       "      <td>ONGOING</td>\n",
       "      <td>False</td>\n",
       "      <td>Daejang Gong, aka Raid Leader, used to be rank...</td>\n",
       "    </tr>\n",
       "    <tr>\n",
       "      <th>1</th>\n",
       "      <td>3920</td>\n",
       "      <td>Regina Rena: To the Unforgiven</td>\n",
       "      <td>FANTASY</td>\n",
       "      <td>[Seol Dong-Won, NANA, kim youngji]</td>\n",
       "      <td>[TUESDAY]</td>\n",
       "      <td>4</td>\n",
       "      <td>303384</td>\n",
       "      <td>9.73</td>\n",
       "      <td>1238712</td>\n",
       "      <td>148555</td>\n",
       "      <td>ONGOING</td>\n",
       "      <td>False</td>\n",
       "      <td>Rena Rubel is a beautiful woman who has faced ...</td>\n",
       "    </tr>\n",
       "    <tr>\n",
       "      <th>2</th>\n",
       "      <td>3919</td>\n",
       "      <td>Love and Leashes</td>\n",
       "      <td>ROMANCE</td>\n",
       "      <td>[Winter]</td>\n",
       "      <td>[FRIDAY]</td>\n",
       "      <td>6</td>\n",
       "      <td>157328</td>\n",
       "      <td>8.31</td>\n",
       "      <td>2240640</td>\n",
       "      <td>191785</td>\n",
       "      <td>ONGOING</td>\n",
       "      <td>True</td>\n",
       "      <td>Jihu has a secret kink and has finally met the...</td>\n",
       "    </tr>\n",
       "    <tr>\n",
       "      <th>3</th>\n",
       "      <td>3918</td>\n",
       "      <td>My In-Laws are Obsessed with Me</td>\n",
       "      <td>FANTASY</td>\n",
       "      <td>[seungu, Han Yoon seol]</td>\n",
       "      <td>[SUNDAY]</td>\n",
       "      <td>5</td>\n",
       "      <td>225483</td>\n",
       "      <td>9.77</td>\n",
       "      <td>1125324</td>\n",
       "      <td>139363</td>\n",
       "      <td>ONGOING</td>\n",
       "      <td>False</td>\n",
       "      <td>Pereshati Jahardt is a count's daughter who go...</td>\n",
       "    </tr>\n",
       "    <tr>\n",
       "      <th>4</th>\n",
       "      <td>3917</td>\n",
       "      <td>Manager Kim</td>\n",
       "      <td>ACTION</td>\n",
       "      <td>[Jeongjongtaek, Toy]</td>\n",
       "      <td>[SATURDAY]</td>\n",
       "      <td>4</td>\n",
       "      <td>98941</td>\n",
       "      <td>9.80</td>\n",
       "      <td>372579</td>\n",
       "      <td>46857</td>\n",
       "      <td>ONGOING</td>\n",
       "      <td>False</td>\n",
       "      <td>Single father, company manager, and former bla...</td>\n",
       "    </tr>\n",
       "  </tbody>\n",
       "</table>\n",
       "</div>"
      ],
      "text/plain": [
       "   title_id                             title    genre  \\\n",
       "0      3921               The Final Raid Boss  FANTASY   \n",
       "1      3920    Regina Rena: To the Unforgiven  FANTASY   \n",
       "2      3919                  Love and Leashes  ROMANCE   \n",
       "3      3918  My In-Laws are Obsessed with Me   FANTASY   \n",
       "4      3917                       Manager Kim   ACTION   \n",
       "\n",
       "                                    authors     weekdays  length  subscribers  \\\n",
       "0  [KIM JANGHUN, HA SEONGSHIN, PARK SUBONG]  [WEDNESDAY]       3         2962   \n",
       "1        [Seol Dong-Won, NANA, kim youngji]    [TUESDAY]       4       303384   \n",
       "2                                  [Winter]     [FRIDAY]       6       157328   \n",
       "3                   [seungu, Han Yoon seol]     [SUNDAY]       5       225483   \n",
       "4                      [Jeongjongtaek, Toy]   [SATURDAY]       4        98941   \n",
       "\n",
       "   rating    views   likes   status  daily_pass  \\\n",
       "0    9.94     5401     370  ONGOING       False   \n",
       "1    9.73  1238712  148555  ONGOING       False   \n",
       "2    8.31  2240640  191785  ONGOING        True   \n",
       "3    9.77  1125324  139363  ONGOING       False   \n",
       "4    9.80   372579   46857  ONGOING       False   \n",
       "\n",
       "                                            synopsis  \n",
       "0  Daejang Gong, aka Raid Leader, used to be rank...  \n",
       "1  Rena Rubel is a beautiful woman who has faced ...  \n",
       "2  Jihu has a secret kink and has finally met the...  \n",
       "3  Pereshati Jahardt is a count's daughter who go...  \n",
       "4  Single father, company manager, and former bla...  "
      ]
     },
     "execution_count": 2,
     "metadata": {},
     "output_type": "execute_result"
    }
   ],
   "source": [
    "df = pd.read_csv(\"webtoon_originals_en.csv\",\n",
    "                 converters = {\"authors\": lambda x: x.split(\",\"),\n",
    "                               \"weekdays\": lambda x: x.split(\",\")},\n",
    "                 encoding = \"utf-8\",\n",
    "                 index_col = 0,\n",
    "                 na_filter = False)\n",
    "df.head()"
   ]
  },
  {
   "cell_type": "markdown",
   "id": "a2e08d7b",
   "metadata": {},
   "source": [
    "A function to flatten the series of lists."
   ]
  },
  {
   "cell_type": "code",
   "execution_count": 3,
   "id": "411be3f6",
   "metadata": {},
   "outputs": [],
   "source": [
    "def flat_series(series):\n",
    "   flat = []\n",
    "   for _list in series:\n",
    "      flat += _list\n",
    "   return pd.Series(flat)"
   ]
  },
  {
   "cell_type": "code",
   "execution_count": 4,
   "id": "234fd8ea",
   "metadata": {},
   "outputs": [
    {
     "data": {
      "text/plain": [
       "Various Artists                 14\n",
       "WmW                              6\n",
       "Carnby Kim                       5\n",
       "PARK SUBONG                      4\n",
       "Ilkwon Ha                        4\n",
       "                                ..\n",
       "Jay Boulton & Laurel Boulton     1\n",
       "Captain Juuter                   1\n",
       "mushmello                        1\n",
       "kariyeen                         1\n",
       "Hyunseok Yun                     1\n",
       "Length: 813, dtype: int64"
      ]
     },
     "execution_count": 4,
     "metadata": {},
     "output_type": "execute_result"
    }
   ],
   "source": [
    "flat_series(df[\"authors\"]).value_counts()"
   ]
  },
  {
   "cell_type": "code",
   "execution_count": 5,
   "id": "743ba4be",
   "metadata": {},
   "outputs": [
    {
     "data": {
      "text/plain": [
       "WEDNESDAY    155\n",
       "FRIDAY       149\n",
       "THURSDAY     148\n",
       "SUNDAY       146\n",
       "SATURDAY     141\n",
       "TUESDAY      139\n",
       "MONDAY       137\n",
       "dtype: int64"
      ]
     },
     "execution_count": 5,
     "metadata": {},
     "output_type": "execute_result"
    }
   ],
   "source": [
    "flat_series(df[\"weekdays\"]).value_counts()"
   ]
  }
 ],
 "metadata": {
  "kernelspec": {
   "display_name": "Python 3 (ipykernel)",
   "language": "python",
   "name": "python3"
  },
  "language_info": {
   "codemirror_mode": {
    "name": "ipython",
    "version": 3
   },
   "file_extension": ".py",
   "mimetype": "text/x-python",
   "name": "python",
   "nbconvert_exporter": "python",
   "pygments_lexer": "ipython3",
   "version": "3.9.8"
  }
 },
 "nbformat": 4,
 "nbformat_minor": 5
}
